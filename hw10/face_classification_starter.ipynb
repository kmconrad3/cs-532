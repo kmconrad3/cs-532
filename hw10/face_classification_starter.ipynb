{
 "cells": [
  {
   "cell_type": "markdown",
   "metadata": {},
   "source": [
    "## Q4"
   ]
  },
  {
   "cell_type": "code",
   "execution_count": 13,
   "metadata": {
    "scrolled": true
   },
   "outputs": [],
   "source": [
    "import numpy as np\n",
    "import matplotlib.pyplot as plt\n",
    "from scipy.io import loadmat\n",
    "dataset = loadmat('face_emotion_data.mat')\n",
    "\n",
    "X, y = dataset['X'], dataset['y']\n",
    "n, p = np.shape(X)\n",
    "\n",
    "y[y==-1] = 0  # use 0/1 for labels instead of -1/+1\n",
    "X = np.hstack((np.ones((n,1)), X))  # append a column of ones"
   ]
  },
  {
   "cell_type": "code",
   "execution_count": 14,
   "metadata": {},
   "outputs": [],
   "source": [
    "#A\n",
    "def logsig(_x):\n",
    "    return 1/(1+np.exp(-_x))\n",
    "\n",
    "def train(train_inds): \n",
    "    \"\"\"takes a list of indices and trains a 1-hidden layer netuork with a single output returns \n",
    "    weights of network in matrices W, V and a list with the error rate as functions of epoch\"\"\"\n",
    "    Xb = X[train_inds]\n",
    "    Y = y[train_inds]\n",
    "    n, p = np.shape(Xb)\n",
    "    #inital weights\n",
    "    V = np.random.randn(M+1, 1);\n",
    "    W = np.random.randn(p, M); #p is the number of inputs, bias included\n",
    "    training_error = []\n",
    "    for epoch in range(L):\n",
    "        ind=np.random.permutation(n)\n",
    "        for i in ind:\n",
    "            #Forwardpropagate\n",
    "            H=logsig(np.hstack((np.ones((1,1)), Xb[[i],:]@W)))\n",
    "            Yhat=logsig(H@V)\n",
    "            #Backpropagate\n",
    "            delta=(Yhat-Y[[i],:])*Yhat*(1-Yhat)\n",
    "            Vnew=V-alpha*H.T@delta\n",
    "            gamma=delta@V[1:,:].T*H[:,1:]*(1-H[:,1:])\n",
    "            Wnew=W-alpha*Xb[[i],:].T@gamma\n",
    "            V=Vnew\n",
    "            W=Wnew\n",
    "            #find training error\n",
    "            H=logsig(np.hstack((np.ones((n,1)), Xb@W)))\n",
    "            Yhat=logsig(H@V)\n",
    "            training_error.append(np.mean(abs(np.round(Yhat[:,0])-Y[:0])) )\n",
    "    return W,V,training_error\n",
    "           \n",
    "def test(test_inds, W, V):\n",
    "    X_test=X[test_inds]\n",
    "    y_test=y[test_inds]\n",
    "    nt, _ = np.shape(X_test)\n",
    "    H=logsig(np.hstack((np.ones((nt,1)), X_test@W)))\n",
    "    Yhat=logsig(H@V)\n",
    "    return np.mean(abs(np.round(Yhat[:,0])-y_test[:,0]))"
   ]
  },
  {
   "cell_type": "code",
   "execution_count": 15,
   "metadata": {},
   "outputs": [
    {
     "data": {
      "image/png": "[encoded data removed]",
      "text/plain": [
       "<Figure size 640x480 with 1 Axes>"
      ]
     },
     "metadata": {},
     "output_type": "display_data"
    }
   ],
   "source": [
    "#B\n",
    "alpha=.05 #step size\n",
    "L=200 #epochs\n",
    "M=32 #hidden nodes\n",
    "\n",
    "for i in range(20):\n",
    "    _,_,training_error=train(list(range(128)))\n",
    "    plt.plot(training_error)\n",
    "    \n",
    "plt.ylabel(\"train error\")\n",
    "plt.xlabel(\"epochs\")\n",
    "plt.show()"
   ]
  },
  {
   "cell_type": "code",
   "execution_count": null,
   "metadata": {},
   "outputs": [],
   "source": [
    "#C\n",
    "alpha=.05\n",
    "L=20\n",
    "M=32\n",
    "\n",
    "for ite in range(10):\n",
    "    test_acc=[]\n",
    "    for i in range(8):\n",
    "        test_ind = np.arange(i*16, (i+1)*16)\n",
    "        tain_ind=np.setdiff1d(np.arange(128), test_ind)\n",
    "        W, V, training_error = train(train_id)\n",
    "        error=test(test_ind, W, V)\n",
    "        test_acc.append(error)\n",
    "    print(\"Iter:\", ite, \"test_acc:\", np.mean(test_acc))"
   ]
  }
 ],
 "metadata": {
  "kernelspec": {
   "display_name": "Python 3 (ipykernel)",
   "language": "python",
   "name": "python3"
  },
  "language_info": {
   "codemirror_mode": {
    "name": "ipython",
    "version": 3
   },
   "file_extension": ".py",
   "mimetype": "text/x-python",
   "name": "python",
   "nbconvert_exporter": "python",
   "pygments_lexer": "ipython3",
   "version": "3.10.9"
  }
 },
 "nbformat": 4,
 "nbformat_minor": 4
}
