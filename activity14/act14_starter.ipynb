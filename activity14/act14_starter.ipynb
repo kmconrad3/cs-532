{
 "cells": [
  {
   "cell_type": "code",
   "execution_count": 2,
   "metadata": {},
   "outputs": [],
   "source": [
    "import numpy as np\n",
    "import matplotlib.pyplot as plt "
   ]
  },
  {
   "cell_type": "markdown",
   "metadata": {},
   "source": [
    "#### 1a) "
   ]
  },
  {
   "cell_type": "code",
   "execution_count": 3,
   "metadata": {},
   "outputs": [
    {
     "name": "stdout",
     "output_type": "stream",
     "text": [
      "Unweighted adjacency matrix\n",
      "[[0 1 0 0 0 0 0 1]\n",
      " [1 0 1 0 0 0 0 0]\n",
      " [1 1 0 1 1 0 0 0]\n",
      " [0 0 1 0 1 0 0 0]\n",
      " [0 0 0 1 0 1 0 0]\n",
      " [0 0 0 0 1 0 1 0]\n",
      " [0 0 0 0 0 1 0 1]\n",
      " [1 0 0 0 0 0 1 0]]\n",
      " \n"
     ]
    }
   ],
   "source": [
    "# Circle topology\n",
    "# Unweighted adjacency matrix\n",
    "\n",
    "# Option 1: Manually enter the entries\n",
    "Atilde = np.array(\n",
    "         [[0,1,0,0,0,0,0,1],\n",
    "          [1,0,1,0,0,0,0,0],\n",
    "          [1,1,0,1,1,0,0,0],\n",
    "          [0,0,1,0,1,0,0,0],\n",
    "          [0,0,0,1,0,1,0,0],\n",
    "          [0,0,0,0,1,0,1,0],\n",
    "          [0,0,0,0,0,1,0,1],\n",
    "          [1,0,0,0,0,0,1,0]])\n",
    "\n",
    "# Option 2: or you can exploit the patterns\n",
    "# Atilde = np.zeros((8,8))\n",
    "# for i in range(8): # \n",
    "#     Atilde[i,(i+1)%8] = 1\n",
    "#     Atilde[i,(i-1)%8] = 1\n",
    "# Atilde[2,0] = 1\n",
    "# Atilde[2,4] = 1\n",
    "\n",
    "print('Unweighted adjacency matrix')\n",
    "print(Atilde)\n",
    "print(' ')"
   ]
  },
  {
   "cell_type": "markdown",
   "metadata": {},
   "source": [
    "#### 1b)"
   ]
  },
  {
   "cell_type": "code",
   "execution_count": 18,
   "metadata": {},
   "outputs": [
    {
     "name": "stdout",
     "output_type": "stream",
     "text": [
      "Weighted adjacency matrix\n",
      "[[0.   0.5  0.   0.   0.   0.   0.   0.5 ]\n",
      " [0.33 0.   0.5  0.   0.   0.   0.   0.  ]\n",
      " [0.33 0.5  0.   0.5  0.33 0.   0.   0.  ]\n",
      " [0.   0.   0.5  0.   0.33 0.   0.   0.  ]\n",
      " [0.   0.   0.   0.5  0.   0.5  0.   0.  ]\n",
      " [0.   0.   0.   0.   0.33 0.   0.5  0.  ]\n",
      " [0.   0.   0.   0.   0.   0.5  0.   0.5 ]\n",
      " [0.33 0.   0.   0.   0.   0.   0.5  0.  ]]\n"
     ]
    }
   ],
   "source": [
    "# Find weighted adjacency matrix\n",
    "# option 1: normalize columns with a for loop\n",
    "A = np.zeros((8,8), dtype=float)\n",
    "for k in range(8):\n",
    "    norm = np.sum(Atilde[:,k])\n",
    "    A[:,k] = np.round(Atilde[:,k]/norm, 2)\n",
    "    \n",
    "# option 2: normalize using numpy.sum() and broadcasting, in a single line\n",
    "# A = ???\n",
    "\n",
    "print('Weighted adjacency matrix')\n",
    "print(A)"
   ]
  },
  {
   "cell_type": "markdown",
   "metadata": {},
   "source": [
    "#### 1c) and 1d)"
   ]
  },
  {
   "cell_type": "code",
   "execution_count": 20,
   "metadata": {},
   "outputs": [
    {
     "name": "stdout",
     "output_type": "stream",
     "text": [
      "b0 =  [[0.125]\n",
      " [0.125]\n",
      " [0.125]\n",
      " [0.125]\n",
      " [0.125]\n",
      " [0.125]\n",
      " [0.125]\n",
      " [0.125]]\n",
      " \n",
      "b1 =  [[0.125  ]\n",
      " [0.10375]\n",
      " [0.2075 ]\n",
      " [0.10375]\n",
      " [0.125  ]\n",
      " [0.10375]\n",
      " [0.125  ]\n",
      " [0.10375]]\n",
      " \n",
      "1000 iterations\n",
      "b =  [[0.01142111]\n",
      " [0.01519881]\n",
      " [0.02278941]\n",
      " [0.01519881]\n",
      " [0.01142111]\n",
      " [0.00759061]\n",
      " [0.0076082 ]\n",
      " [0.00759061]]\n"
     ]
    }
   ],
   "source": [
    "# Power method\n",
    "\n",
    "b0 = 0.125*np.ones((8,1))\n",
    "print('b0 = ', b0)\n",
    "print(' ')\n",
    "\n",
    "b1 = A@b0\n",
    "print('b1 = ', b1)\n",
    "print(' ')\n",
    "\n",
    "b = b0.copy()\n",
    "for k in range(1000):\n",
    "    b = A@b\n",
    "    \n",
    "print('1000 iterations')\n",
    "print('b = ',b)\n"
   ]
  },
  {
   "cell_type": "markdown",
   "metadata": {},
   "source": [
    "#### 1e) Nodes 2, 3 and 4 seem to be more important because they have the highest probability of being visited from the current state."
   ]
  },
  {
   "cell_type": "markdown",
   "metadata": {},
   "source": [
    "#### 2a)"
   ]
  },
  {
   "cell_type": "code",
   "execution_count": 21,
   "metadata": {},
   "outputs": [
    {
     "name": "stdout",
     "output_type": "stream",
     "text": [
      "Unweighted adjacency matrix\n",
      "[[0 0 0 0 0 0 0 0 1]\n",
      " [1 0 0 0 0 0 0 0 1]\n",
      " [0 0 0 0 0 0 0 0 1]\n",
      " [0 0 0 0 0 0 0 0 1]\n",
      " [0 0 0 0 0 0 0 0 1]\n",
      " [0 0 0 0 0 0 0 0 1]\n",
      " [0 0 0 0 0 0 0 0 1]\n",
      " [0 0 0 0 0 0 0 0 1]\n",
      " [1 1 1 1 1 1 1 1 1]]\n",
      " \n"
     ]
    }
   ],
   "source": [
    "# Hub topology\n",
    "\n",
    "Atildehub = np.array(\n",
    "         [[0,0,0,0,0,0,0,0,1],\n",
    "          [1,0,0,0,0,0,0,0,1],\n",
    "          [0,0,0,0,0,0,0,0,1],\n",
    "          [0,0,0,0,0,0,0,0,1],\n",
    "          [0,0,0,0,0,0,0,0,1],\n",
    "          [0,0,0,0,0,0,0,0,1],\n",
    "          [0,0,0,0,0,0,0,0,1],\n",
    "          [0,0,0,0,0,0,0,0,1],\n",
    "          [1,1,1,1,1,1,1,1,1]])\n",
    "\n",
    "print('Unweighted adjacency matrix')\n",
    "print(Atildehub)\n",
    "print(' ')"
   ]
  },
  {
   "cell_type": "markdown",
   "metadata": {},
   "source": [
    "#### 2b)"
   ]
  },
  {
   "cell_type": "code",
   "execution_count": 22,
   "metadata": {},
   "outputs": [
    {
     "name": "stdout",
     "output_type": "stream",
     "text": [
      "Weighted adjacency matrix\n",
      "[[0.   0.   0.   0.   0.   0.   0.   0.   0.11]\n",
      " [0.5  0.   0.   0.   0.   0.   0.   0.   0.11]\n",
      " [0.   0.   0.   0.   0.   0.   0.   0.   0.11]\n",
      " [0.   0.   0.   0.   0.   0.   0.   0.   0.11]\n",
      " [0.   0.   0.   0.   0.   0.   0.   0.   0.11]\n",
      " [0.   0.   0.   0.   0.   0.   0.   0.   0.11]\n",
      " [0.   0.   0.   0.   0.   0.   0.   0.   0.11]\n",
      " [0.   0.   0.   0.   0.   0.   0.   0.   0.11]\n",
      " [0.5  1.   1.   1.   1.   1.   1.   1.   0.11]]\n"
     ]
    }
   ],
   "source": [
    "\n",
    "# find weighted adjacency matrix\n",
    "\n",
    "Ahub = np.zeros((9,9), dtype=float)\n",
    "for k in range(9):\n",
    "    norm = np.sum(Atildehub[:,k])\n",
    "    Ahub[:,k] = np.round(Atildehub[:,k]/norm, 2)\n",
    "\n",
    "print('Weighted adjacency matrix')\n",
    "print(Ahub)"
   ]
  },
  {
   "cell_type": "markdown",
   "metadata": {},
   "source": [
    "#### 2c) and 2d)"
   ]
  },
  {
   "cell_type": "code",
   "execution_count": 23,
   "metadata": {},
   "outputs": [
    {
     "name": "stdout",
     "output_type": "stream",
     "text": [
      "b0 =  [[0.11111111]\n",
      " [0.11111111]\n",
      " [0.11111111]\n",
      " [0.11111111]\n",
      " [0.11111111]\n",
      " [0.11111111]\n",
      " [0.11111111]\n",
      " [0.11111111]\n",
      " [0.11111111]]\n",
      " \n",
      "bhub1 =  [[0.01222222]\n",
      " [0.06777778]\n",
      " [0.01222222]\n",
      " [0.01222222]\n",
      " [0.01222222]\n",
      " [0.01222222]\n",
      " [0.01222222]\n",
      " [0.01222222]\n",
      " [0.84555556]]\n",
      " \n",
      "1000 iterations\n",
      "bhub =  [[0.00032546]\n",
      " [0.00048904]\n",
      " [0.00032546]\n",
      " [0.00032546]\n",
      " [0.00032546]\n",
      " [0.00032546]\n",
      " [0.00032546]\n",
      " [0.00032546]\n",
      " [0.00294352]]\n",
      " \n",
      "100 iterations\n",
      "bhubr =  [[0.03406798]\n",
      " [0.05119022]\n",
      " [0.03406798]\n",
      " [0.03406798]\n",
      " [0.03406798]\n",
      " [0.03406798]\n",
      " [0.03406798]\n",
      " [0.03406798]\n",
      " [0.30811254]]\n"
     ]
    }
   ],
   "source": [
    "b0 = (1/9)*np.ones((9,1))\n",
    "print('b0 = ', b0)\n",
    "print(' ')\n",
    "\n",
    "bhub1 = Ahub@b0\n",
    "print('bhub1 = ', bhub1)\n",
    "print(' ')\n",
    "\n",
    "bhub = b0.copy()\n",
    "for k in range(1000):\n",
    "    bhub = Ahub@bhub\n",
    "    \n",
    "print('1000 iterations')\n",
    "print('bhub = ', bhub)\n",
    "print(' ')\n",
    "\n",
    "bhubr = b0.copy()\n",
    "for k in range(100):\n",
    "    bhubr = Ahub@bhubr\n",
    "    \n",
    "print('100 iterations')\n",
    "print('bhubr = ',bhubr)"
   ]
  },
  {
   "cell_type": "markdown",
   "metadata": {},
   "source": [
    "#### 2e) and 2f)\n",
    "\n",
    "2e) Nodes 9 is most important because it consistently has the highest probability of being visited from the current state compared to all other nodes which are all roughly the same probably (which is lower).\n",
    "\n",
    "2f) below"
   ]
  },
  {
   "cell_type": "code",
   "execution_count": 32,
   "metadata": {},
   "outputs": [
    {
     "name": "stdout",
     "output_type": "stream",
     "text": [
      "bhubr =  [[0.05021348]\n",
      " [0.07839725]\n",
      " [0.05021348]\n",
      " [0.05021348]\n",
      " [0.05021348]\n",
      " [0.05021348]\n",
      " [0.05021348]\n",
      " [0.05021348]\n",
      " [0.49769375]]\n"
     ]
    }
   ],
   "source": [
    "bhubr = b0.copy()\n",
    "for k in range(15):\n",
    "    bhubr = Ahub@bhubr\n",
    "    \n",
    "print('bhubr = ',bhubr)"
   ]
  },
  {
   "cell_type": "code",
   "execution_count": null,
   "metadata": {},
   "outputs": [],
   "source": []
  }
 ],
 "metadata": {
  "kernelspec": {
   "display_name": "Python 3 (ipykernel)",
   "language": "python",
   "name": "python3"
  },
  "language_info": {
   "codemirror_mode": {
    "name": "ipython",
    "version": 3
   },
   "file_extension": ".py",
   "mimetype": "text/x-python",
   "name": "python",
   "nbconvert_exporter": "python",
   "pygments_lexer": "ipython3",
   "version": "3.10.9"
  }
 },
 "nbformat": 4,
 "nbformat_minor": 4
}
