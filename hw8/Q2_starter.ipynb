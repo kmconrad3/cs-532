{
 "cells": [
  {
   "cell_type": "code",
   "execution_count": 2,
   "metadata": {},
   "outputs": [
    {
     "name": "stdout",
     "output_type": "stream",
     "text": [
      "30 30 235\n"
     ]
    },
    {
     "ename": "NameError",
     "evalue": "name 'ista_solve_hot' is not defined",
     "output_type": "error",
     "traceback": [
      "\u001b[0;31m---------------------------------------------------------------------------\u001b[0m",
      "\u001b[0;31mNameError\u001b[0m                                 Traceback (most recent call last)",
      "Cell \u001b[0;32mIn[2], line 54\u001b[0m\n\u001b[1;32m     52\u001b[0m     \u001b[38;5;28mprint\u001b[39m(\u001b[38;5;28mlen\u001b[39m(v1_ind), \u001b[38;5;28mlen\u001b[39m(v2_ind), \u001b[38;5;28mlen\u001b[39m(trn_ind))\n\u001b[1;32m     53\u001b[0m \u001b[38;5;66;03m# Use training data to learn classifier\u001b[39;00m\n\u001b[0;32m---> 54\u001b[0m     W \u001b[38;5;241m=\u001b[39m \u001b[43mista_solve_hot\u001b[49m(At,bt,lam_vals)\n\u001b[1;32m     55\u001b[0m     errv2 \u001b[38;5;241m=\u001b[39m np\u001b[38;5;241m.\u001b[39mzeros(number)\n\u001b[1;32m     56\u001b[0m     \u001b[38;5;28;01mfor\u001b[39;00m i \u001b[38;5;129;01min\u001b[39;00m \u001b[38;5;28mrange\u001b[39m(number):\n",
      "\u001b[0;31mNameError\u001b[0m: name 'ista_solve_hot' is not defined"
     ]
    }
   ],
   "source": [
    "## Breast Cancer LASSO Exploration\n",
    "## Prepare workspace\n",
    "from scipy.io import loadmat\n",
    "import numpy as np\n",
    "X = loadmat(\"BreastCancer.mat\")['X']\n",
    "y = loadmat(\"BreastCancer.mat\")['y']\n",
    "\n",
    "##  10-fold CV \n",
    "\n",
    "# each row of setindices denotes the starting an ending index for one\n",
    "# partition of the data: 5 sets of 30 samples and 5 sets of 29 samples\n",
    "setindices = [[1,30],[31,60],[61,90],[91,120],[121,150],[151,179],[180,208],[209,237],[238,266],[267,295]]\n",
    "\n",
    "# each row of holdoutindices denotes the partitions that are held out from\n",
    "# the training set\n",
    "holdoutindices = [[1,2],[2,3],[3,4],[4,5],[5,6],[7,8],[9,10],[10,1]]\n",
    "\n",
    "cases = len(holdoutindices)\n",
    "\n",
    "# be sure to initiate the quantities you want to measure before looping\n",
    "# through the various training, validation, and test partitions\n",
    "index = np.asarray(range(295))\n",
    "errv2_l1 = np.zeros(cases)\n",
    "resv2_l1 = np.zeros(cases)\n",
    "\n",
    "# Loop over various cases\n",
    "for j in range(cases):\n",
    "    # row indices of first validation set\n",
    "    v1_ind = np.arange(setindices[holdoutindices[j][0]-1][0]-1,setindices[holdoutindices[j][0]-1][1])\n",
    "    \n",
    "    # row indices of second validation set\n",
    "    v2_ind = np.arange(setindices[holdoutindices[j][1]-1][0]-1,setindices[holdoutindices[j][1]-1][1])\n",
    "    \n",
    "    # row indices of training set\n",
    "    trn_ind = list(set(range(295))-set(v1_ind)-set(v2_ind))\n",
    "    \n",
    "    # define matrix of features and labels corresponding to first\n",
    "    # validation set\n",
    "    Av1 = X[v1_ind,:]\n",
    "    bv1 = y[v1_ind]\n",
    "    \n",
    "    # define matrix of features and labels corresponding to second\n",
    "    # validation set\n",
    "    Av2 = X[v2_ind,:]\n",
    "    bv2 = y[v2_ind]\n",
    "    \n",
    "    # define matrix of features and labels corresponding to the \n",
    "    # training set\n",
    "    At = X[trn_ind,:]\n",
    "    bt = y[trn_ind]\n",
    "    \n",
    "    print(len(v1_ind), len(v2_ind), len(trn_ind))\n",
    "# Use training data to learn classifier\n",
    "    W = ista_solve_hot(At,bt,lam_vals)\n",
    "    errv2 = np.zeros(number)\n",
    "    for i in range(number):\n",
    "        errv2[i]=np.mean(np.sign(Av1@W[:, i:i+1]) != bvi)\n",
    "    min_ind=np.argmin(errv2)\n",
    "    \n",
    "    errv2_l1[j]=np.mean(np.sign(Av2@W[:,min_ind:min_ind+1]) !=bv2)\n",
    "    resv2_l1[j]=np.linalg.norm(Av2@W[:,min_ind:min_ind+1]-bv2)**2\n",
    "\n",
    "# Find best lambda value using first validation set, then evaluate\n",
    "# performance on second validation set, and accumulate performance metrics\n",
    "# over all cases partitions\n",
    "err10fold_l1=np.mean(errv2_l1)\n",
    "res10fold_l1=np.mean(resv2_li)\n",
    "\n",
    "print(err10fold_l1)\n",
    "print(res10fold_l1)"
   ]
  },
  {
   "cell_type": "code",
   "execution_count": null,
   "metadata": {},
   "outputs": [],
   "source": []
  }
 ],
 "metadata": {
  "kernelspec": {
   "display_name": "Python 3 (ipykernel)",
   "language": "python",
   "name": "python3"
  },
  "language_info": {
   "codemirror_mode": {
    "name": "ipython",
    "version": 3
   },
   "file_extension": ".py",
   "mimetype": "text/x-python",
   "name": "python",
   "nbconvert_exporter": "python",
   "pygments_lexer": "ipython3",
   "version": "3.10.9"
  }
 },
 "nbformat": 4,
 "nbformat_minor": 4
}
